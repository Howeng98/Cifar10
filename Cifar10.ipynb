{
  "nbformat": 4,
  "nbformat_minor": 0,
  "metadata": {
    "colab": {
      "name": "Cifar10.ipynb",
      "provenance": [],
      "collapsed_sections": []
    },
    "kernelspec": {
      "name": "python3",
      "display_name": "Python 3"
    },
    "accelerator": "GPU"
  },
  "cells": [
    {
      "cell_type": "code",
      "metadata": {
        "id": "LWwioVYdZUq9",
        "outputId": "6fdbe4a7-2db0-4d10-9cf3-f0766b04d983",
        "colab": {
          "base_uri": "https://localhost:8080/",
          "height": 508
        }
      },
      "source": [
        "from keras.datasets import cifar10\n",
        "import numpy as np\n",
        "import matplotlib.pyplot as plt\n",
        "import tensorflow as tf\n",
        "from tensorflow.python.client import device_lib\n",
        "from tensorflow import keras\n",
        "from keras.utils import np_utils,plot_model\n",
        "from keras.layers import Dense, Dropout, Flatten, Conv2D, MaxPool2D\n",
        "from keras.models import Sequential, load_model\n",
        "from sklearn.model_selection import train_test_split\n",
        "\n",
        "tf.test.gpu_device_name()\n",
        "device_lib.list_local_devices()"
      ],
      "execution_count": null,
      "outputs": [
        {
          "output_type": "execute_result",
          "data": {
            "text/plain": [
              "[name: \"/device:CPU:0\"\n",
              " device_type: \"CPU\"\n",
              " memory_limit: 268435456\n",
              " locality {\n",
              " }\n",
              " incarnation: 14055949877490494451, name: \"/device:XLA_CPU:0\"\n",
              " device_type: \"XLA_CPU\"\n",
              " memory_limit: 17179869184\n",
              " locality {\n",
              " }\n",
              " incarnation: 14574217657775261070\n",
              " physical_device_desc: \"device: XLA_CPU device\", name: \"/device:XLA_GPU:0\"\n",
              " device_type: \"XLA_GPU\"\n",
              " memory_limit: 17179869184\n",
              " locality {\n",
              " }\n",
              " incarnation: 3062964293407814132\n",
              " physical_device_desc: \"device: XLA_GPU device\", name: \"/device:GPU:0\"\n",
              " device_type: \"GPU\"\n",
              " memory_limit: 11146783616\n",
              " locality {\n",
              "   bus_id: 1\n",
              "   links {\n",
              "   }\n",
              " }\n",
              " incarnation: 380462860462463847\n",
              " physical_device_desc: \"device: 0, name: Tesla K80, pci bus id: 0000:00:04.0, compute capability: 3.7\"]"
            ]
          },
          "metadata": {
            "tags": []
          },
          "execution_count": 19
        }
      ]
    },
    {
      "cell_type": "code",
      "metadata": {
        "id": "JaqVrAqbZeGD",
        "outputId": "f9f8fc5c-100c-461b-9304-f6cfeecd19ad",
        "colab": {
          "base_uri": "https://localhost:8080/",
          "height": 90
        }
      },
      "source": [
        "(x_train,y_train),(x_test,y_test) = cifar10.load_data()\n",
        "print(x_train.shape)\n",
        "print(y_train.shape)\n",
        "# print(x_test.shape)\n",
        "# print(y_test.shape)\n",
        "# x_train, y_train, y_new_train, y_new_test = train_test_split(x_train,y_train,test_size = 0.7)\n",
        "print(x_train.shape)\n",
        "print(y_train.shape)\n",
        "# print(x_test.shape)\n",
        "# print(y_test.shape)\n",
        "# print(y_new_train.shape)\n",
        "# print(y_new_test.shape)"
      ],
      "execution_count": null,
      "outputs": [
        {
          "output_type": "stream",
          "text": [
            "(50000, 32, 32, 3)\n",
            "(50000, 1)\n",
            "(50000, 32, 32, 3)\n",
            "(50000, 1)\n"
          ],
          "name": "stdout"
        }
      ]
    },
    {
      "cell_type": "code",
      "metadata": {
        "id": "Iq66KUaw0CgZ"
      },
      "source": [
        "def show_image(image):\n",
        "  fig = plt.gcf()\n",
        "  fig.set_size_inches(5,5)\n",
        "  plt.imshow(image,cmap='binary')\n",
        "  plt.show()\n",
        "\n",
        "# print(y_train[10])\n",
        "# show_image(x_train[10])"
      ],
      "execution_count": null,
      "outputs": []
    },
    {
      "cell_type": "code",
      "metadata": {
        "id": "BjOlqpjE5ydq",
        "outputId": "1e777b8b-789c-4b00-89fb-9e9bd4d95a2c",
        "colab": {
          "base_uri": "https://localhost:8080/",
          "height": 526
        }
      },
      "source": [
        "x_train = x_train.astype('float32')/255.0\n",
        "x_test = x_test.astype('float32')/255.0\n",
        "# x_test  = x_test.reshape(-1,x_test.shape[1],x_test.shape[2],3)\n",
        "# y_test  = y_test.reshape(-1,y_test.shape[1],y_test.shape[2],3)\n",
        "\n",
        "y_train = np_utils.to_categorical(y_train,10)\n",
        "y_test = np_utils.to_categorical(y_test,10)\n",
        "\n",
        "# print(y_train.shape)\n",
        "# print(y_test.shape)\n",
        "\n",
        "# Variables\n",
        "batch_size = 64\n",
        "num_classes = 10\n",
        "epochs = 10\n",
        "\n",
        "\n",
        "# my model\n",
        "model = keras.Sequential()\n",
        "model.add(keras.layers.Conv2D(32, kernel_size=(5,5), activation='relu',input_shape=(32,32,3),padding='same'))\n",
        "model.add(keras.layers.MaxPooling2D(pool_size=(2,2)))\n",
        "model.add(keras.layers.Conv2D(64, kernel_size=(5,5), activation='relu',input_shape=(32,32,3),padding='same'))\n",
        "model.add(keras.layers.MaxPooling2D(pool_size=(2,2)))\n",
        "model.add(keras.layers.Conv2D(128, kernel_size=(5,5), activation='relu',input_shape=(32,32,3),padding='same'))\n",
        "model.add(keras.layers.MaxPooling2D(pool_size=(2,2)))\n",
        "model.add(keras.layers.Flatten())\n",
        "model.add(keras.layers.Dense(512, activation='relu'))\n",
        "model.add(keras.layers.Dropout(0.5))\n",
        "model.add(keras.layers.Dense(num_classes, activation='softmax'))\n",
        "model.summary()\n",
        "\n",
        "# model = keras.Sequential()\n",
        "# model.add(keras.layers.Conv2D(128, kernel_size=(5,5), activation='relu',input_shape=(32,32,3),padding='same'))\n",
        "# model.add(keras.layers.MaxPooling2D(pool_size=(2,2)))\n",
        "# model.add(keras.layers.Conv2D(128, kernel_size=(5,5), activation='relu',input_shape=(32,32,3),padding='same'))\n",
        "# model.add(keras.layers.MaxPooling2D(pool_size=(2,2)))\n",
        "# model.add(keras.layers.Conv2D(128, kernel_size=(5,5), activation='relu',input_shape=(32,32,3),padding='same'))\n",
        "# model.add(keras.layers.MaxPooling2D(pool_size=(2,2)))\n",
        "# model.add(keras.layers.Flatten())\n",
        "# model.add(keras.layers.Dense(512, activation='relu'))\n",
        "# model.add(keras.layers.Dropout(0.5))\n",
        "# model.add(keras.layers.Dense(num_classes, activation='softmax'))\n",
        "# model.summary()"
      ],
      "execution_count": null,
      "outputs": [
        {
          "output_type": "stream",
          "text": [
            "Model: \"sequential_1\"\n",
            "_________________________________________________________________\n",
            "Layer (type)                 Output Shape              Param #   \n",
            "=================================================================\n",
            "conv2d_3 (Conv2D)            (None, 32, 32, 32)        2432      \n",
            "_________________________________________________________________\n",
            "max_pooling2d_3 (MaxPooling2 (None, 16, 16, 32)        0         \n",
            "_________________________________________________________________\n",
            "conv2d_4 (Conv2D)            (None, 16, 16, 64)        51264     \n",
            "_________________________________________________________________\n",
            "max_pooling2d_4 (MaxPooling2 (None, 8, 8, 64)          0         \n",
            "_________________________________________________________________\n",
            "conv2d_5 (Conv2D)            (None, 8, 8, 128)         204928    \n",
            "_________________________________________________________________\n",
            "max_pooling2d_5 (MaxPooling2 (None, 4, 4, 128)         0         \n",
            "_________________________________________________________________\n",
            "flatten_1 (Flatten)          (None, 2048)              0         \n",
            "_________________________________________________________________\n",
            "dense_2 (Dense)              (None, 512)               1049088   \n",
            "_________________________________________________________________\n",
            "dropout_1 (Dropout)          (None, 512)               0         \n",
            "_________________________________________________________________\n",
            "dense_3 (Dense)              (None, 10)                5130      \n",
            "=================================================================\n",
            "Total params: 1,312,842\n",
            "Trainable params: 1,312,842\n",
            "Non-trainable params: 0\n",
            "_________________________________________________________________\n"
          ],
          "name": "stdout"
        }
      ]
    },
    {
      "cell_type": "code",
      "metadata": {
        "id": "95qqlU-HXWhB"
      },
      "source": [
        "# from keras.datasets import cifar10\n",
        "# (x_train,y_train),(x_test,y_test) = cifar10.load_data()\n"
      ],
      "execution_count": null,
      "outputs": []
    },
    {
      "cell_type": "code",
      "metadata": {
        "id": "5uIIJHH8Z4RX",
        "outputId": "56cd5198-a1d7-4f45-d24a-fc37a9240aad",
        "colab": {
          "base_uri": "https://localhost:8080/",
          "height": 90
        }
      },
      "source": [
        "print(x_train.shape)\n",
        "print(y_train.shape)\n",
        "print(x_test.shape)\n",
        "print(y_test.shape)"
      ],
      "execution_count": null,
      "outputs": [
        {
          "output_type": "stream",
          "text": [
            "(50000, 32, 32, 3)\n",
            "(50000, 10)\n",
            "(10000, 32, 32, 3)\n",
            "(10000, 10)\n"
          ],
          "name": "stdout"
        }
      ]
    },
    {
      "cell_type": "code",
      "metadata": {
        "id": "02w9ueglQXDX",
        "outputId": "01fd7086-c142-4a61-b90d-5f149f99a16b",
        "colab": {
          "base_uri": "https://localhost:8080/",
          "height": 417
        }
      },
      "source": [
        "model.compile(loss='categorical_crossentropy', metrics=['accuracy'], optimizer='adam')\n",
        "history = model.fit(x_train,y_train, batch_size=64, epochs=epochs, verbose=1, validation_data=(x_test,y_test))\n",
        "test_loss, test_acc = model.evaluate(x_test,y_test)\n",
        "print('Test Accuracy',test_acc)"
      ],
      "execution_count": null,
      "outputs": [
        {
          "output_type": "stream",
          "text": [
            "Epoch 1/10\n",
            "782/782 [==============================] - 10s 13ms/step - loss: 1.5470 - accuracy: 0.4322 - val_loss: 1.2445 - val_accuracy: 0.5484\n",
            "Epoch 2/10\n",
            "782/782 [==============================] - 10s 13ms/step - loss: 1.1165 - accuracy: 0.6049 - val_loss: 0.9883 - val_accuracy: 0.6527\n",
            "Epoch 3/10\n",
            "782/782 [==============================] - 10s 13ms/step - loss: 0.9167 - accuracy: 0.6787 - val_loss: 0.9343 - val_accuracy: 0.6755\n",
            "Epoch 4/10\n",
            "782/782 [==============================] - 10s 13ms/step - loss: 0.7908 - accuracy: 0.7246 - val_loss: 0.8946 - val_accuracy: 0.6944\n",
            "Epoch 5/10\n",
            "782/782 [==============================] - 10s 13ms/step - loss: 0.6862 - accuracy: 0.7608 - val_loss: 0.8132 - val_accuracy: 0.7244\n",
            "Epoch 6/10\n",
            "782/782 [==============================] - 10s 13ms/step - loss: 0.6051 - accuracy: 0.7878 - val_loss: 0.8294 - val_accuracy: 0.7173\n",
            "Epoch 7/10\n",
            "782/782 [==============================] - 10s 13ms/step - loss: 0.5354 - accuracy: 0.8110 - val_loss: 0.8380 - val_accuracy: 0.7244\n",
            "Epoch 8/10\n",
            "782/782 [==============================] - 10s 13ms/step - loss: 0.4718 - accuracy: 0.8311 - val_loss: 0.8543 - val_accuracy: 0.7284\n",
            "Epoch 9/10\n",
            "782/782 [==============================] - 10s 13ms/step - loss: 0.4141 - accuracy: 0.8531 - val_loss: 0.8671 - val_accuracy: 0.7352\n",
            "Epoch 10/10\n",
            "782/782 [==============================] - 10s 13ms/step - loss: 0.3571 - accuracy: 0.8740 - val_loss: 0.9157 - val_accuracy: 0.7437\n",
            "313/313 [==============================] - 1s 4ms/step - loss: 0.9157 - accuracy: 0.7437\n",
            "Test Accuracy 0.7437000274658203\n"
          ],
          "name": "stdout"
        }
      ]
    },
    {
      "cell_type": "code",
      "metadata": {
        "id": "sMVrtAPvoMdV",
        "outputId": "1dcdffbc-1c80-42bd-ff9a-e1fb5cded151",
        "colab": {
          "base_uri": "https://localhost:8080/",
          "height": 573
        }
      },
      "source": [
        "# Plotting the metrics\n",
        "fig = plt.figure()\n",
        "#plt.subplot(2,1,1)\n",
        "plt.plot()\n",
        "# plt.scatter(history.history['accuracy'],history.history['val_accuracy'])\n",
        "plt.plot(history.history['accuracy'])\n",
        "plt.plot(history.history['val_accuracy'])\n",
        "plt.title('model accuracy')\n",
        "plt.ylabel('accuracy')\n",
        "plt.xlabel('epoch')\n",
        "plt.legend(['train', 'test'], loc='lower right')\n",
        "plt.show()\n",
        "\n",
        "#plt.subplot(2,1,2)\n",
        "plt.plot()\n",
        "plt.plot(history.history['loss'])\n",
        "plt.plot(history.history['val_loss'])\n",
        "plt.title('model loss')\n",
        "plt.ylabel('loss')\n",
        "plt.xlabel('epoch')\n",
        "plt.legend(['train', 'test'], loc='upper right')\n",
        "plt.show()"
      ],
      "execution_count": null,
      "outputs": [
        {
          "output_type": "display_data",
          "data": {
            "image/png": "[encoded data removed]",
            "text/plain": [
              "<Figure size 432x288 with 1 Axes>"
            ]
          },
          "metadata": {
            "tags": [],
            "needs_background": "light"
          }
        },
        {
          "output_type": "display_data",
          "data": {
            "image/png": "[encoded data removed]",
            "text/plain": [
              "<Figure size 432x288 with 1 Axes>"
            ]
          },
          "metadata": {
            "tags": [],
            "needs_background": "light"
          }
        }
      ]
    },
    {
      "cell_type": "code",
      "metadata": {
        "id": "Exv5CnLDLwVZ",
        "outputId": "3c3a732b-c4e9-4436-ae38-280958a315f7",
        "colab": {
          "base_uri": "https://localhost:8080/",
          "height": 325
        }
      },
      "source": [
        "# Predict\n",
        "# 0 = Airplane, 1 = Automobile, 2 = Bird, 3 = Cat, 4 = Deer\n",
        "# 5 = Dog, 6 = Frog, 7 = Horse, 8 = Ship, 9 = Truck\n",
        "from random import randint\n",
        "\n",
        "for i in range(4):  \n",
        "    plt.subplot(2,2,i+1)\n",
        "    index = randint(0,9999)\n",
        "    plt.imshow(x_train[index])\n",
        "    plt.xticks([])\n",
        "    plt.yticks([])\n",
        "    prediction = model.predict_classes(x_train[index].reshape(1,32,32,3))\n",
        "    plt.title(prediction)\n",
        "plt.show()\n",
        "\n"
      ],
      "execution_count": null,
      "outputs": [
        {
          "output_type": "stream",
          "text": [
            "/usr/local/lib/python3.6/dist-packages/matplotlib/text.py:1165: FutureWarning: elementwise comparison failed; returning scalar instead, but in the future will perform elementwise comparison\n",
            "  if s != self._text:\n"
          ],
          "name": "stderr"
        },
        {
          "output_type": "display_data",
          "data": {
            "image/png": "[encoded data removed]",
            "text/plain": [
              "<Figure size 432x288 with 4 Axes>"
            ]
          },
          "metadata": {
            "tags": []
          }
        }
      ]
    }
  ]
}